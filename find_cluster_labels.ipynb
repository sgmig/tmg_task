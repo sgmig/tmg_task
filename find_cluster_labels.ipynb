{
 "cells": [
  {
   "cell_type": "code",
   "execution_count": 1,
   "id": "olive-madagascar",
   "metadata": {},
   "outputs": [],
   "source": [
    "# Find cluster labels using a model already trained.\n",
    "\n",
    "import os\n",
    "import re\n",
    "import time\n",
    "\n",
    "import pickle\n",
    "import pandas as pd\n",
    "import numpy as np\n",
    "from sklearn.feature_extraction.text import TfidfVectorizer\n",
    "from sklearn.decomposition import TruncatedSVD\n",
    "from sklearn.cluster import KMeans\n",
    "\n",
    "import clustools as ct\n",
    "import scraptools as sct"
   ]
  },
  {
   "cell_type": "markdown",
   "id": "magnetic-charity",
   "metadata": {},
   "source": [
    "##  Scrapping content from new sites"
   ]
  },
  {
   "cell_type": "code",
   "execution_count": 2,
   "id": "committed-daisy",
   "metadata": {},
   "outputs": [
    {
     "name": "stdout",
     "output_type": "stream",
     "text": [
      "The list contains 8 sites.\n",
      "Text from main page www.techint.com written to ./new_contents/www.techint.com.txt\n",
      "Scrapping links from www.techint.com\n",
      "20 links scrapped in 7.39 seconds. \n",
      "20 links failed.\n",
      "Text from main page nexco-sa.com.ar written to ./new_contents/nexco-sa.com.ar.txt\n",
      "Scrapping links from nexco-sa.com.ar\n",
      "13 links scrapped in 2.96 seconds. \n",
      "0 links failed.\n",
      "Text from main page murphyfinnedtubes.com written to ./new_contents/murphyfinnedtubes.com.txt\n",
      "Scrapping links from murphyfinnedtubes.com\n",
      "20 links scrapped in 5.47 seconds. \n",
      "0 links failed.\n",
      "Error in site: https://www.venuspipes.com\n",
      "Text from main page www.twmetals.com written to ./new_contents/www.twmetals.com.txt\n",
      "Scrapping links from www.twmetals.com\n",
      "20 links scrapped in 3.66 seconds. \n",
      "0 links failed.\n",
      "Text from main page www.tpsconstructora.com.ar written to ./new_contents/www.tpsconstructora.com.ar.txt\n",
      "Scrapping links from www.tpsconstructora.com.ar\n",
      "20 links scrapped in 13.19 seconds. \n",
      "0 links failed.\n",
      "Text from main page www.lomanegra.com.ar written to ./new_contents/www.lomanegra.com.ar.txt\n",
      "Scrapping links from www.lomanegra.com.ar\n",
      "20 links scrapped in 6.29 seconds. \n",
      "0 links failed.\n",
      "Text from main page www.ypf.com written to ./new_contents/www.ypf.com.txt\n",
      "Scrapping links from www.ypf.com\n",
      "20 links scrapped in 6.47 seconds. \n",
      "0 links failed.\n",
      "====================\n",
      " Scrapping Summary \n",
      "====================\n",
      "\n",
      "8 sites requested. \n",
      "Scrapping took 1.16 min (69.53 s) \n",
      "7 SUCCESFUL. \n",
      "1 FAILURES. \n",
      "\n",
      "Contents in: ./new_contents/ \n",
      "Logs in: ./logs/ \n",
      "Full report: ./logs/20210126_1617_scrapping_repport\n"
     ]
    }
   ],
   "source": [
    "# Scrape new sites for content.\n",
    "\n",
    "SITES_LIST = []\n",
    "\n",
    "new_sites_file = './site_lists/02_websites.csv'\n",
    "new_content_dir = './new_contents/'\n",
    "\n",
    "with open(new_sites_file, 'r', newline = '') as f:\n",
    "    for site in f.readlines():\n",
    "        SITES_LIST.append(site.strip())\n",
    "\n",
    "print(f'The list contains {len(SITES_LIST)} sites.')\n",
    "\n",
    "report = sct.scrape_full(SITES_LIST, contents_dir = new_content_dir)\n",
    "\n",
    "print('='*20 + '\\n Scrapping Summary \\n' +'='*20 +'\\n' )\n",
    "print(f'{len(report[\"sites\"])} sites requested. \\n' \n",
    "      + f'Scrapping took {report[\"time_s\"]/60:.2f} min ({report[\"time_s\"]:.2f} s) \\n' \n",
    "      + f'{len(report[\"succesful\"]) } SUCCESFUL. \\n'\n",
    "      + f'{len(report[\"failed\"]) } FAILURES. \\n\\n'\n",
    "      + f'Contents in: {report[\"contents\"]} \\n'\n",
    "      + f'Logs in: {report[\"logs\"]} \\n'\n",
    "      + f'Full report: {report[\"report_name\"]}' \n",
    "     )\n",
    "\n"
   ]
  },
  {
   "cell_type": "markdown",
   "id": "constitutional-consumption",
   "metadata": {},
   "source": [
    "##  Clustering new sites with trained model."
   ]
  },
  {
   "cell_type": "code",
   "execution_count": 19,
   "id": "familiar-catalog",
   "metadata": {},
   "outputs": [],
   "source": [
    "# get new data\n",
    "\n",
    "# Gather files\n",
    "\n",
    "# Set the contents directory\n",
    "CONTENTS_DIR = './new_contents/'\n",
    "\n",
    "# Get all file names from the directory.\n",
    "\n",
    "file_names = [file for file in os.listdir(CONTENTS_DIR)]\n",
    "\n",
    "# Read the text of each file\n",
    "file_contents = []\n",
    "\n",
    "for name in file_names:\n",
    "    \n",
    "    with open(CONTENTS_DIR + name, 'r') as content:\n",
    "        site_text = content.read()\n",
    "    \n",
    "    file_contents.append(site_text)\n",
    "    \n",
    "# Store contents in dataframe\n",
    "\n",
    "websites_df = pd.DataFrame({'site': map(lambda name: name.replace('.txt','' ), file_names),\n",
    "                            'raw_text': file_contents})\n",
    "\n",
    "# Add column with split text, and one with the length of the split text.\n",
    "websites_df['wordcount'] = websites_df['raw_text'].apply(lambda mytext: len(mytext.split()))\n",
    "\n",
    "# Drop short or empty texts\n",
    "\n",
    "min_words = 100\n",
    "\n",
    "websites_df.drop(websites_df[websites_df['wordcount']< min_words].index, inplace=True)"
   ]
  },
  {
   "cell_type": "code",
   "execution_count": 20,
   "id": "reasonable-diving",
   "metadata": {},
   "outputs": [
    {
     "data": {
      "text/html": [
       "<div>\n",
       "<style scoped>\n",
       "    .dataframe tbody tr th:only-of-type {\n",
       "        vertical-align: middle;\n",
       "    }\n",
       "\n",
       "    .dataframe tbody tr th {\n",
       "        vertical-align: top;\n",
       "    }\n",
       "\n",
       "    .dataframe thead th {\n",
       "        text-align: right;\n",
       "    }\n",
       "</style>\n",
       "<table border=\"1\" class=\"dataframe\">\n",
       "  <thead>\n",
       "    <tr style=\"text-align: right;\">\n",
       "      <th></th>\n",
       "      <th>site</th>\n",
       "      <th>raw_text</th>\n",
       "      <th>wordcount</th>\n",
       "    </tr>\n",
       "  </thead>\n",
       "  <tbody>\n",
       "    <tr>\n",
       "      <th>0</th>\n",
       "      <td>murphyfinnedtubes.com</td>\n",
       "      <td>Murphy Finned Tubes | Fin Tubes | Finned Coils...</td>\n",
       "      <td>18871</td>\n",
       "    </tr>\n",
       "    <tr>\n",
       "      <th>1</th>\n",
       "      <td>nexco-sa.com.ar</td>\n",
       "      <td>NEXCO | Exportación de Miel y Cera de Abejas\\n...</td>\n",
       "      <td>4152</td>\n",
       "    </tr>\n",
       "    <tr>\n",
       "      <th>2</th>\n",
       "      <td>www.lomanegra.com.ar</td>\n",
       "      <td>Loma Negra, Líder en la producción y comercial...</td>\n",
       "      <td>15112</td>\n",
       "    </tr>\n",
       "    <tr>\n",
       "      <th>3</th>\n",
       "      <td>www.techint.com</td>\n",
       "      <td>Home\\nes\\nen\\npt\\nMenú\\nCerrar\\nQuiénes somos\\...</td>\n",
       "      <td>827</td>\n",
       "    </tr>\n",
       "    <tr>\n",
       "      <th>4</th>\n",
       "      <td>www.tpsconstructora.com.ar</td>\n",
       "      <td>TPS – Constructora – Empresa Constructora\\nEdu...</td>\n",
       "      <td>9380</td>\n",
       "    </tr>\n",
       "    <tr>\n",
       "      <th>5</th>\n",
       "      <td>www.twmetals.com</td>\n",
       "      <td>Specialty Metals Suppliers - Industrial Metal ...</td>\n",
       "      <td>34724</td>\n",
       "    </tr>\n",
       "    <tr>\n",
       "      <th>6</th>\n",
       "      <td>www.ypf.com</td>\n",
       "      <td>Naftas, Gas y Petróleo | YPF\\nLa ubicación de ...</td>\n",
       "      <td>34484</td>\n",
       "    </tr>\n",
       "  </tbody>\n",
       "</table>\n",
       "</div>"
      ],
      "text/plain": [
       "                         site  \\\n",
       "0       murphyfinnedtubes.com   \n",
       "1             nexco-sa.com.ar   \n",
       "2        www.lomanegra.com.ar   \n",
       "3             www.techint.com   \n",
       "4  www.tpsconstructora.com.ar   \n",
       "5            www.twmetals.com   \n",
       "6                 www.ypf.com   \n",
       "\n",
       "                                            raw_text  wordcount  \n",
       "0  Murphy Finned Tubes | Fin Tubes | Finned Coils...      18871  \n",
       "1  NEXCO | Exportación de Miel y Cera de Abejas\\n...       4152  \n",
       "2  Loma Negra, Líder en la producción y comercial...      15112  \n",
       "3  Home\\nes\\nen\\npt\\nMenú\\nCerrar\\nQuiénes somos\\...        827  \n",
       "4  TPS – Constructora – Empresa Constructora\\nEdu...       9380  \n",
       "5  Specialty Metals Suppliers - Industrial Metal ...      34724  \n",
       "6  Naftas, Gas y Petróleo | YPF\\nLa ubicación de ...      34484  "
      ]
     },
     "execution_count": 20,
     "metadata": {},
     "output_type": "execute_result"
    }
   ],
   "source": [
    "websites_df"
   ]
  },
  {
   "cell_type": "code",
   "execution_count": 21,
   "id": "particular-malpractice",
   "metadata": {},
   "outputs": [],
   "source": [
    "# Load models\n",
    "\n",
    "model_directories = './cluster_results/'\n",
    "\n",
    "vectorizer_file = model_directories + '20210126_1557_fitted_tfidf.pickle'\n",
    "reducer_file = model_directories + '20210126_1557_fitted_TSVD.pickle'\n",
    "KMeans_file = model_directories + '/20210126_1557_fitted_kmeans_model.pickle'\n",
    "\n",
    "KMeans_model = pickle.load(open(KMeans_file, 'rb'))\n",
    "vectorizer = pickle.load(open(vectorizer_file, 'rb'))\n",
    "reducer = pickle.load(open(reducer_file, 'rb'))"
   ]
  },
  {
   "cell_type": "code",
   "execution_count": 22,
   "id": "considered-gardening",
   "metadata": {
    "scrolled": true
   },
   "outputs": [
    {
     "name": "stderr",
     "output_type": "stream",
     "text": [
      "/home/santiago/anaconda3/envs/nlp_task/lib/python3.7/site-packages/sklearn/feature_extraction/text.py:386: UserWarning: Your stop_words may be inconsistent with your preprocessing. Tokenizing the stop words generated tokens ['baiknya', 'berkali', 'doctype', 'kali', 'kurangnya', 'mata', 'olah', 'onların', 'printr', 'sekurang', 'setidak', 'tama', 'tidaknya', 'арбаң', 'арсалаң', 'афташ', 'бай', 'бале', 'баски', 'батыр', 'баҳри', 'болои', 'бүгжең', 'бұтыр', 'валекин', 'вақте', 'вой', 'вуҷуди', 'гар', 'гарчанде', 'далаң', 'даме', 'ербелең', 'жалт', 'жұлт', 'карда', 'кошки', 'куя', 'күңгір', 'магар', 'майлаш', 'митың', 'модоме', 'нияти', 'онан', 'оре', 'паһ', 'рӯи', 'салаң', 'сар', 'сұлаң', 'сұрт', 'тарбаң', 'тразе', 'тыржың', 'тұрс', 'хом', 'хуб', 'чаро', 'чун', 'чунон', 'шарте', 'шұңқ', 'ыржың', 'қадар', 'қайқаң', 'қалт', 'қаңғыр', 'қаңқ', 'қош', 'қызараң', 'құйқаң', 'құлт', 'құңқ', 'ұрс', 'ҳай', 'ҳамин', 'ҳатто', 'ҳол', 'ҳолате', 'әттеген', 'ӯим', 'आजक', 'उनक', 'उनल', 'एउट', 'कसर', 'जबक', 'जसक', 'जसब', 'जसम', 'जसल', 'तदन', 'तवम', 'नभन', 'भएक', 'यसक', 'यसपछ', 'यसब', 'यसर', 'रमश', 'सपछ', 'हरण', 'ἀλλ'] not in stop_words.\n",
      "  'stop_words.' % sorted(inconsistent))\n"
     ]
    }
   ],
   "source": [
    "# vectorization\n",
    "\n",
    "dtm = vectorizer.transform(websites_df['raw_text'])"
   ]
  },
  {
   "cell_type": "code",
   "execution_count": 23,
   "id": "outside-excuse",
   "metadata": {},
   "outputs": [],
   "source": [
    "# dimensional reduction\n",
    "\n",
    "reduced_dtm = reducer.transform(dtm)"
   ]
  },
  {
   "cell_type": "code",
   "execution_count": 24,
   "id": "polar-spoke",
   "metadata": {},
   "outputs": [
    {
     "data": {
      "text/plain": [
       "(7, 7)"
      ]
     },
     "execution_count": 24,
     "metadata": {},
     "output_type": "execute_result"
    }
   ],
   "source": [
    "reduced_dtm.shape"
   ]
  },
  {
   "cell_type": "code",
   "execution_count": 25,
   "id": "resident-ratio",
   "metadata": {},
   "outputs": [],
   "source": [
    "websites_df['cluster_label'] = KMeans_model.predict(reduced_dtm)"
   ]
  },
  {
   "cell_type": "code",
   "execution_count": 27,
   "id": "standing-experience",
   "metadata": {},
   "outputs": [
    {
     "data": {
      "text/html": [
       "<div>\n",
       "<style scoped>\n",
       "    .dataframe tbody tr th:only-of-type {\n",
       "        vertical-align: middle;\n",
       "    }\n",
       "\n",
       "    .dataframe tbody tr th {\n",
       "        vertical-align: top;\n",
       "    }\n",
       "\n",
       "    .dataframe thead th {\n",
       "        text-align: right;\n",
       "    }\n",
       "</style>\n",
       "<table border=\"1\" class=\"dataframe\">\n",
       "  <thead>\n",
       "    <tr style=\"text-align: right;\">\n",
       "      <th></th>\n",
       "      <th>site</th>\n",
       "      <th>raw_text</th>\n",
       "      <th>wordcount</th>\n",
       "      <th>cluster_label</th>\n",
       "    </tr>\n",
       "  </thead>\n",
       "  <tbody>\n",
       "    <tr>\n",
       "      <th>0</th>\n",
       "      <td>murphyfinnedtubes.com</td>\n",
       "      <td>Murphy Finned Tubes | Fin Tubes | Finned Coils...</td>\n",
       "      <td>18871</td>\n",
       "      <td>0</td>\n",
       "    </tr>\n",
       "    <tr>\n",
       "      <th>1</th>\n",
       "      <td>nexco-sa.com.ar</td>\n",
       "      <td>NEXCO | Exportación de Miel y Cera de Abejas\\n...</td>\n",
       "      <td>4152</td>\n",
       "      <td>5</td>\n",
       "    </tr>\n",
       "    <tr>\n",
       "      <th>2</th>\n",
       "      <td>www.lomanegra.com.ar</td>\n",
       "      <td>Loma Negra, Líder en la producción y comercial...</td>\n",
       "      <td>15112</td>\n",
       "      <td>5</td>\n",
       "    </tr>\n",
       "    <tr>\n",
       "      <th>3</th>\n",
       "      <td>www.techint.com</td>\n",
       "      <td>Home\\nes\\nen\\npt\\nMenú\\nCerrar\\nQuiénes somos\\...</td>\n",
       "      <td>827</td>\n",
       "      <td>5</td>\n",
       "    </tr>\n",
       "    <tr>\n",
       "      <th>4</th>\n",
       "      <td>www.tpsconstructora.com.ar</td>\n",
       "      <td>TPS – Constructora – Empresa Constructora\\nEdu...</td>\n",
       "      <td>9380</td>\n",
       "      <td>5</td>\n",
       "    </tr>\n",
       "    <tr>\n",
       "      <th>5</th>\n",
       "      <td>www.twmetals.com</td>\n",
       "      <td>Specialty Metals Suppliers - Industrial Metal ...</td>\n",
       "      <td>34724</td>\n",
       "      <td>0</td>\n",
       "    </tr>\n",
       "    <tr>\n",
       "      <th>6</th>\n",
       "      <td>www.ypf.com</td>\n",
       "      <td>Naftas, Gas y Petróleo | YPF\\nLa ubicación de ...</td>\n",
       "      <td>34484</td>\n",
       "      <td>5</td>\n",
       "    </tr>\n",
       "  </tbody>\n",
       "</table>\n",
       "</div>"
      ],
      "text/plain": [
       "                         site  \\\n",
       "0       murphyfinnedtubes.com   \n",
       "1             nexco-sa.com.ar   \n",
       "2        www.lomanegra.com.ar   \n",
       "3             www.techint.com   \n",
       "4  www.tpsconstructora.com.ar   \n",
       "5            www.twmetals.com   \n",
       "6                 www.ypf.com   \n",
       "\n",
       "                                            raw_text  wordcount  cluster_label  \n",
       "0  Murphy Finned Tubes | Fin Tubes | Finned Coils...      18871              0  \n",
       "1  NEXCO | Exportación de Miel y Cera de Abejas\\n...       4152              5  \n",
       "2  Loma Negra, Líder en la producción y comercial...      15112              5  \n",
       "3  Home\\nes\\nen\\npt\\nMenú\\nCerrar\\nQuiénes somos\\...        827              5  \n",
       "4  TPS – Constructora – Empresa Constructora\\nEdu...       9380              5  \n",
       "5  Specialty Metals Suppliers - Industrial Metal ...      34724              0  \n",
       "6  Naftas, Gas y Petróleo | YPF\\nLa ubicación de ...      34484              5  "
      ]
     },
     "execution_count": 27,
     "metadata": {},
     "output_type": "execute_result"
    }
   ],
   "source": [
    "websites_df"
   ]
  },
  {
   "cell_type": "code",
   "execution_count": 26,
   "id": "buried-diana",
   "metadata": {},
   "outputs": [],
   "source": [
    "# Save clustered sites and cluster descriptions.\n",
    "\n",
    "results_dir = './cluster_results/'\n",
    "\n",
    "timestr = time.strftime(\"%Y%m%d_%H%M\", time.localtime())\n",
    "\n",
    "clustered_sites_file = results_dir + timestr +'_clustered_sites.csv'\n",
    "\n",
    "websites_df.sort_values('cluster_label').to_csv(clustered_sites_file ,columns=['site', 'cluster_label'])"
   ]
  },
  {
   "cell_type": "code",
   "execution_count": null,
   "id": "functioning-final",
   "metadata": {},
   "outputs": [],
   "source": []
  }
 ],
 "metadata": {
  "kernelspec": {
   "display_name": "Python 3",
   "language": "python",
   "name": "python3"
  },
  "language_info": {
   "codemirror_mode": {
    "name": "ipython",
    "version": 3
   },
   "file_extension": ".py",
   "mimetype": "text/x-python",
   "name": "python",
   "nbconvert_exporter": "python",
   "pygments_lexer": "ipython3",
   "version": "3.7.4"
  }
 },
 "nbformat": 4,
 "nbformat_minor": 5
}
