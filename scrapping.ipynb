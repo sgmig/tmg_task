{
 "cells": [
  {
   "cell_type": "markdown",
   "id": "shaped-guyana",
   "metadata": {},
   "source": [
    "#  Web scrapping for NLP task.\n",
    "\n",
    "The goal of this notebook is to build a tool that can scrape text from a given list of websites, in order to use it later for clustering the sites. \n",
    "\n",
    "The task indicates that we should get text from the landing page, as well as text from the links contained in the landing page. \n",
    "\n",
    "Since many requests will be necessary, some mechanism has to be put in place in order to avoid being blocked. \n",
    "(user-agents, proxy, etc.)\n",
    "\n",
    "As each page contains many links, parallel processing can be implemented in order to speed up the scrapping. \n",
    "\n",
    "The final product should be able to take a list of websites and build text files with the contents of each site. \n",
    "Additional parameters could be included for managing, for instance, the pareallel processing, or maybe some further filtering of the contents. "
   ]
  },
  {
   "cell_type": "code",
   "execution_count": null,
   "id": "trained-drilling",
   "metadata": {},
   "outputs": [],
   "source": [
    "import scraptools as sct"
   ]
  },
  {
   "cell_type": "code",
   "execution_count": null,
   "id": "hollywood-soccer",
   "metadata": {
    "scrolled": false
   },
   "outputs": [],
   "source": [
    "# Read list of sites from csv\n",
    "SITES_LIST = []\n",
    "\n",
    "with open('./site_lists/01_websites.csv', 'r', newline = '') as f:\n",
    "    for site in f.readlines():\n",
    "        SITES_LIST.append(site.strip())\n",
    "\n",
    "print(f'The list contains {len(SITES_LIST)} sites.')\n",
    "\n",
    "# call custom scrapping function\n",
    "report = sct.scrape_full(SITES_LIST)\n",
    "\n",
    "print('='*20 + '\\n Scrapping Summary \\n' +'='*20 +'\\n' )\n",
    "print(f'{len(report[\"sites\"])} sites requested. \\n' \n",
    "      + f'Scrapping took {report[\"time_s\"]/60:.2f} min ({report[\"time_s\"]:.2f} s) \\n' \n",
    "      + f'{len(report[\"succesful\"]) } SUCCESFUL. \\n'\n",
    "      + f'{len(report[\"failed\"]) } FAILURES. \\n\\n'\n",
    "      + f'Contents in: {report[\"contents\"]} \\n'\n",
    "      + f'Logs in: {report[\"logs\"]} \\n'\n",
    "      + f'Full report: {report[\"report_name\"]}' \n",
    "     )"
   ]
  },
  {
   "cell_type": "code",
   "execution_count": null,
   "id": "union-professor",
   "metadata": {},
   "outputs": [],
   "source": []
  }
 ],
 "metadata": {
  "kernelspec": {
   "display_name": "Python 3",
   "language": "python",
   "name": "python3"
  },
  "language_info": {
   "codemirror_mode": {
    "name": "ipython",
    "version": 3
   },
   "file_extension": ".py",
   "mimetype": "text/x-python",
   "name": "python",
   "nbconvert_exporter": "python",
   "pygments_lexer": "ipython3",
   "version": "3.7.4"
  }
 },
 "nbformat": 4,
 "nbformat_minor": 5
}
